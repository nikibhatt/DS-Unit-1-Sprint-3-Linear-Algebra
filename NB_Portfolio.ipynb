{
  "nbformat": 4,
  "nbformat_minor": 0,
  "metadata": {
    "colab": {
      "name": "NB_Portfolio.ipynb",
      "provenance": [],
      "collapsed_sections": [],
      "include_colab_link": true
    },
    "kernelspec": {
      "display_name": "Python 3",
      "language": "python",
      "name": "python3"
    },
    "language_info": {
      "codemirror_mode": {
        "name": "ipython",
        "version": 3
      },
      "file_extension": ".py",
      "mimetype": "text/x-python",
      "name": "python",
      "nbconvert_exporter": "python",
      "pygments_lexer": "ipython3",
      "version": "3.7.1"
    }
  },
  "cells": [
    {
      "cell_type": "markdown",
      "metadata": {
        "id": "view-in-github",
        "colab_type": "text"
      },
      "source": [
        "<a href=\"https://colab.research.google.com/github/nikibhatt/DS-Unit-1-Sprint-3-Linear-Algebra/blob/master/NB_Portfolio.ipynb\" target=\"_parent\"><img src=\"https://colab.research.google.com/assets/colab-badge.svg\" alt=\"Open In Colab\"/></a>"
      ]
    },
    {
      "cell_type": "markdown",
      "metadata": {
        "id": "SnDJqBLi0FYW",
        "colab_type": "text"
      },
      "source": [
        "<img align=\"left\" src=\"https://lever-client-logos.s3.amazonaws.com/864372b1-534c-480e-acd5-9711f850815c-1524247202159.png\" width=200> "
      ]
    },
    {
      "cell_type": "code",
      "metadata": {
        "id": "vLWVaBSY-R_l",
        "colab_type": "code",
        "colab": {}
      },
      "source": [
        "import pandas as pd\n",
        "import numpy as np\n",
        "from sklearn.preprocessing import LabelEncoder\n",
        "from sklearn.impute import SimpleImputer\n",
        "from sklearn.ensemble import RandomForestRegressor\n",
        "from sklearn.metrics import mean_absolute_error # 0.3 error\n",
        "from sklearn.model_selection import train_test_split\n",
        "import matplotlib.pyplot as plt"
      ],
      "execution_count": 0,
      "outputs": []
    },
    {
      "cell_type": "code",
      "metadata": {
        "id": "hPAd5P9gnT_J",
        "colab_type": "code",
        "outputId": "dee4d439-c4de-4c91-adbe-d54f88183bd6",
        "colab": {
          "base_uri": "https://localhost:8080/",
          "height": 34
        }
      },
      "source": [
        "df = pd.read_csv('googleplaystore.csv')\n",
        "print(df.shape)"
      ],
      "execution_count": 3,
      "outputs": [
        {
          "output_type": "stream",
          "text": [
            "(10841, 13)\n"
          ],
          "name": "stdout"
        }
      ]
    },
    {
      "cell_type": "code",
      "metadata": {
        "id": "VfU-KaPTeLoy",
        "colab_type": "code",
        "colab": {}
      },
      "source": [
        "df.head(25)"
      ],
      "execution_count": 0,
      "outputs": []
    },
    {
      "cell_type": "markdown",
      "metadata": {
        "id": "jCkAmJT59Ure",
        "colab_type": "text"
      },
      "source": [
        "Hypothesis: Number of installs for most popular(top 10) 'Teen' apps will far exceed the number of installs for most popular(top 10) 'non-Teen' apps"
      ]
    },
    {
      "cell_type": "code",
      "metadata": {
        "id": "hE14Ul7B_ug5",
        "colab_type": "code",
        "colab": {}
      },
      "source": [
        "df_original = df\n",
        "\n",
        "# Data cleaning for \"Size\" column\n",
        "df['Size'] = df['Size'].map(lambda x: x.rstrip('M'))\n",
        "df['Size'] = df['Size'].map(lambda x: str(round((float(x.rstrip('k'))/1024), 1)) if x[-1]=='k' else x)\n",
        "df['Size'] = df['Size'].map(lambda x: np.nan if x.startswith('Varies') else x)\n",
        "# Data cleaning for \"Installs\" column\n",
        "df['Installs'] = df['Installs'].map(lambda x: x.rstrip('+'))\n",
        "df['Installs'] = df['Installs'].map(lambda x: ''.join(x.split(',')))\n",
        "# Data cleaning for \"Price\" column\n",
        "df['Price'] = df['Price'].map(lambda x: x.lstrip('$').rstrip())\n",
        "# Row 10472 removed due to missing value of Category\n",
        "df.drop(df.index[10472], inplace=True)\n",
        "# Row [7312,8266] removed due to \"Unrated\" value in Content Rating\n",
        "df.drop(df.index[[7312,8266]], inplace=True)"
      ],
      "execution_count": 0,
      "outputs": []
    },
    {
      "cell_type": "code",
      "metadata": {
        "id": "be6mP8GyGDQb",
        "colab_type": "code",
        "colab": {}
      },
      "source": [
        "df.head(25)"
      ],
      "execution_count": 0,
      "outputs": []
    },
    {
      "cell_type": "code",
      "metadata": {
        "id": "EBvS5ZgTAdVx",
        "colab_type": "code",
        "colab": {}
      },
      "source": [
        "# Sort by \"Category\"\n",
        "df.sort_values(\"Category\", inplace = True)"
      ],
      "execution_count": 0,
      "outputs": []
    },
    {
      "cell_type": "code",
      "metadata": {
        "id": "9eApul7xuRiC",
        "colab_type": "code",
        "outputId": "007f0d10-c81e-42db-d67f-81594084406a",
        "colab": {
          "base_uri": "https://localhost:8080/",
          "height": 54
        }
      },
      "source": [
        "# Label encoding\n",
        "lb_make = LabelEncoder()\n",
        "# Create column for \"numeric\" Content Rating \n",
        "df[\"Content Rating NUM\"] = lb_make.fit_transform(df[\"Content Rating\"])\n",
        "# Form dicitonary for Content Rating and numeric values \n",
        "dict_content_rating = {\"Adults only 18+\": 0, \"Everyone\": 1, \"Everyone 10+\": 2, \"Mature 17+\": 3, \"Teen\": 4}\n",
        "# Numeric value for Content Rating\n",
        "'''\n",
        "Adults only 18+ = 0\n",
        "Everyone = 1\n",
        "Everyone 10+ = 2\n",
        "Mature 17+ = 3\n",
        "Teen = 4\n",
        "'''\n",
        "# Create column for \"numeric\" Category\n",
        "df[\"Category NUM\"] = lb_make.fit_transform(df[\"Category\"])\n",
        "# Form dicitonary for Category and numeric values\n",
        "dict_category = {}\n",
        "val = 0\n",
        "for i in df[\"Category\"].unique():\n",
        " dict_category[i] = val\n",
        " val += 1\n",
        "# Numeric value for Category\n",
        "'''\n",
        "ART_AND_DESIGN = 0\n",
        "AUTO_AND_VEHICLES = 1\n",
        "BEAUTY = 2 \n",
        "BOOKS_AND_REFERENCE = 3\n",
        "BUSINESS = 4\n",
        "COMICS = 5\n",
        "COMMUNICATION = 6\n",
        "DATING = 7\n",
        "EDUCATION = 8\n",
        "ENTERTAINMENT = 9\n",
        "EVENTS = 10\n",
        "FAMILY = 11\n",
        "FINANCE = 12\n",
        "FOOD_AND_DRINK = 13\n",
        "GAME = 14\n",
        "HEALTH_AND_FITNESS = 15\n",
        "HOUSE_AND_HOME = 16\n",
        "LIBRARIES_AND_DEMO = 17\n",
        "LIFESTYLE = 18\n",
        "MAPS_AND_NAVIGATION = 19\n",
        "MEDICAL = 20\n",
        "NEWS_AND_MAGAZINES = 21\n",
        "PARENTING = 22\n",
        "PERSONALIZATION = 23\n",
        "PHOTOGRAPHY = 24\n",
        "PRODUCTIVITY = 25\n",
        "SHOPPING = 26\n",
        "SOCIAL = 27\n",
        "SPORTS = 28\n",
        "TOOLS = 29\n",
        "TRAVEL_AND_LOCAL = 30\n",
        "VIDEO_PLAYERS = 31\n",
        "WEATHER = 32\n",
        "'''"
      ],
      "execution_count": 6,
      "outputs": [
        {
          "output_type": "execute_result",
          "data": {
            "text/plain": [
              "'\\nART_AND_DESIGN = 0\\nAUTO_AND_VEHICLES = 1\\nBEAUTY = 2 \\nBOOKS_AND_REFERENCE = 3\\nBUSINESS = 4\\nCOMICS = 5\\nCOMMUNICATION = 6\\nDATING = 7\\nEDUCATION = 8\\nENTERTAINMENT = 9\\nEVENTS = 10\\nFAMILY = 11\\nFINANCE = 12\\nFOOD_AND_DRINK = 13\\nGAME = 14\\nHEALTH_AND_FITNESS = 15\\nHOUSE_AND_HOME = 16\\nLIBRARIES_AND_DEMO = 17\\nLIFESTYLE = 18\\nMAPS_AND_NAVIGATION = 19\\nMEDICAL = 20\\nNEWS_AND_MAGAZINES = 21\\nPARENTING = 22\\nPERSONALIZATION = 23\\nPHOTOGRAPHY = 24\\nPRODUCTIVITY = 25\\nSHOPPING = 26\\nSOCIAL = 27\\nSPORTS = 28\\nTOOLS = 29\\nTRAVEL_AND_LOCAL = 30\\nVIDEO_PLAYERS = 31\\nWEATHER = 32\\n'"
            ]
          },
          "metadata": {
            "tags": []
          },
          "execution_count": 6
        }
      ]
    },
    {
      "cell_type": "code",
      "metadata": {
        "id": "QeUosa9vuYt4",
        "colab_type": "code",
        "colab": {}
      },
      "source": [
        "# Replace \"NaN\" with mean \n",
        "imputer = SimpleImputer()\n",
        "df['Rating'] = imputer.fit_transform(df[['Rating']])\n",
        "# Rounding the mean value to 1 decimal place\n",
        "df['Rating'].round(1)\n",
        "df.dropna(axis=0, inplace=True)"
      ],
      "execution_count": 0,
      "outputs": []
    },
    {
      "cell_type": "code",
      "metadata": {
        "id": "UjaVNzllulgY",
        "colab_type": "code",
        "colab": {}
      },
      "source": [
        "# Change datatype\n",
        "df['Reviews'] = pd.to_numeric(df['Reviews'])\n",
        "df['Installs'] = pd.to_numeric(df['Installs'])\n",
        "df['Price'] = pd.to_numeric(df['Price'])"
      ],
      "execution_count": 0,
      "outputs": []
    },
    {
      "cell_type": "code",
      "metadata": {
        "id": "jHkmfWfTcDU4",
        "colab_type": "code",
        "colab": {}
      },
      "source": [
        "df_grouped_by_category_num = df.groupby('Category NUM')\n",
        "df_grouped_by_category_num.head()"
      ],
      "execution_count": 0,
      "outputs": []
    },
    {
      "cell_type": "code",
      "metadata": {
        "id": "vmAP0zDMECpL",
        "colab_type": "code",
        "colab": {}
      },
      "source": [
        "options = ['GAME', 'FAMILY', 'COMMUNICATION', 'NEWS_AND_MAGAZINES', 'TOOLS', 'PRODUCTIVITY', 'PHOTOGRAPHY', 'SHOPPING', 'SPORTS', 'PERSONALIZATION']\n",
        "\n",
        "short_df = df[df['Category'].isin(options)]"
      ],
      "execution_count": 0,
      "outputs": []
    },
    {
      "cell_type": "code",
      "metadata": {
        "id": "7vBCwTYe1MYD",
        "colab_type": "code",
        "colab": {}
      },
      "source": [
        "df_sum_installs_for_category = []\n",
        "for x in short_df['Category NUM'].unique():\n",
        "  df_sum_installs_for_category.append({'Category NUM': x, 'Sum Installs' : df.loc[df['Category NUM'] == int(x), 'Installs'].sum()})\n",
        "df_sum_installs_for_category"
      ],
      "execution_count": 0,
      "outputs": []
    },
    {
      "cell_type": "code",
      "metadata": {
        "id": "MS0yVt-N5ll6",
        "colab_type": "code",
        "colab": {}
      },
      "source": [
        "df_sum_installs_for_category = pd.DataFrame(df_sum_installs_for_category)"
      ],
      "execution_count": 0,
      "outputs": []
    },
    {
      "cell_type": "code",
      "metadata": {
        "id": "bEd6Qfp12yfI",
        "colab_type": "code",
        "colab": {}
      },
      "source": [
        "df_sum_installs_for_category.sort_values(by=['Sum Installs'], ascending=False, inplace=True)"
      ],
      "execution_count": 0,
      "outputs": []
    },
    {
      "cell_type": "code",
      "metadata": {
        "id": "2PDy9cqqqXzS",
        "colab_type": "code",
        "outputId": "5539f0ef-71aa-479f-dabb-3d038f105361",
        "colab": {
          "base_uri": "https://localhost:8080/",
          "height": 359
        }
      },
      "source": [
        "df_sum_installs_for_category"
      ],
      "execution_count": 0,
      "outputs": [
        {
          "output_type": "execute_result",
          "data": {
            "text/html": [
              "<div>\n",
              "<style scoped>\n",
              "    .dataframe tbody tr th:only-of-type {\n",
              "        vertical-align: middle;\n",
              "    }\n",
              "\n",
              "    .dataframe tbody tr th {\n",
              "        vertical-align: top;\n",
              "    }\n",
              "\n",
              "    .dataframe thead th {\n",
              "        text-align: right;\n",
              "    }\n",
              "</style>\n",
              "<table border=\"1\" class=\"dataframe\">\n",
              "  <thead>\n",
              "    <tr style=\"text-align: right;\">\n",
              "      <th></th>\n",
              "      <th>Category NUM</th>\n",
              "      <th>Sum Installs</th>\n",
              "    </tr>\n",
              "  </thead>\n",
              "  <tbody>\n",
              "    <tr>\n",
              "      <th>2</th>\n",
              "      <td>14</td>\n",
              "      <td>29874564253</td>\n",
              "    </tr>\n",
              "    <tr>\n",
              "      <th>1</th>\n",
              "      <td>11</td>\n",
              "      <td>6798732825</td>\n",
              "    </tr>\n",
              "    <tr>\n",
              "      <th>0</th>\n",
              "      <td>6</td>\n",
              "      <td>4941943051</td>\n",
              "    </tr>\n",
              "    <tr>\n",
              "      <th>3</th>\n",
              "      <td>21</td>\n",
              "      <td>4252005650</td>\n",
              "    </tr>\n",
              "    <tr>\n",
              "      <th>9</th>\n",
              "      <td>29</td>\n",
              "      <td>3526544805</td>\n",
              "    </tr>\n",
              "    <tr>\n",
              "      <th>6</th>\n",
              "      <td>25</td>\n",
              "      <td>2742312744</td>\n",
              "    </tr>\n",
              "    <tr>\n",
              "      <th>5</th>\n",
              "      <td>24</td>\n",
              "      <td>2557897655</td>\n",
              "    </tr>\n",
              "    <tr>\n",
              "      <th>7</th>\n",
              "      <td>26</td>\n",
              "      <td>1504248785</td>\n",
              "    </tr>\n",
              "    <tr>\n",
              "      <th>8</th>\n",
              "      <td>28</td>\n",
              "      <td>1138949498</td>\n",
              "    </tr>\n",
              "    <tr>\n",
              "      <th>4</th>\n",
              "      <td>23</td>\n",
              "      <td>998168772</td>\n",
              "    </tr>\n",
              "  </tbody>\n",
              "</table>\n",
              "</div>"
            ],
            "text/plain": [
              "   Category NUM  Sum Installs\n",
              "2            14   29874564253\n",
              "1            11    6798732825\n",
              "0             6    4941943051\n",
              "3            21    4252005650\n",
              "9            29    3526544805\n",
              "6            25    2742312744\n",
              "5            24    2557897655\n",
              "7            26    1504248785\n",
              "8            28    1138949498\n",
              "4            23     998168772"
            ]
          },
          "metadata": {
            "tags": []
          },
          "execution_count": 147
        }
      ]
    },
    {
      "cell_type": "code",
      "metadata": {
        "id": "z0Sz1-vnLa8g",
        "colab_type": "code",
        "outputId": "d3f5b43d-9a14-435e-f263-8f4920a711d7",
        "colab": {
          "base_uri": "https://localhost:8080/",
          "height": 272
        }
      },
      "source": [
        "df_sum_installs_for_category.plot.pie(y='Sum Installs', labels=df_sum_installs_for_category['Category NUM'])"
      ],
      "execution_count": 0,
      "outputs": [
        {
          "output_type": "execute_result",
          "data": {
            "text/plain": [
              "<matplotlib.axes._subplots.AxesSubplot at 0x7fc5b9316cf8>"
            ]
          },
          "metadata": {
            "tags": []
          },
          "execution_count": 15
        },
        {
          "output_type": "display_data",
          "data": {
            "image/png": "[encoded data removed]",
            "text/plain": [
              "<Figure size 432x288 with 1 Axes>"
            ]
          },
          "metadata": {
            "tags": []
          }
        }
      ]
    },
    {
      "cell_type": "code",
      "metadata": {
        "id": "fjvLg-c57xYU",
        "colab_type": "code",
        "outputId": "0920be6d-aec7-4f19-d042-05d2d5cfa809",
        "colab": {
          "base_uri": "https://localhost:8080/",
          "height": 34
        }
      },
      "source": [
        "len(short_df.loc[df['Price'] == 1.29])"
      ],
      "execution_count": 0,
      "outputs": [
        {
          "output_type": "execute_result",
          "data": {
            "text/plain": [
              "1"
            ]
          },
          "metadata": {
            "tags": []
          },
          "execution_count": 76
        }
      ]
    },
    {
      "cell_type": "code",
      "metadata": {
        "id": "yGBTdW5RLd4N",
        "colab_type": "code",
        "colab": {}
      },
      "source": [
        "df_price_distribution = []\n",
        "for x in short_df['Price'].unique():\n",
        "  df_price_distribution.append({'Price' : x, 'Number of Apps': len(short_df.loc[df['Price'] == x])})\n",
        "df_price_distribution = pd.DataFrame(df_price_distribution)"
      ],
      "execution_count": 0,
      "outputs": []
    },
    {
      "cell_type": "code",
      "metadata": {
        "id": "YDDbKWZsahRE",
        "colab_type": "code",
        "colab": {}
      },
      "source": [
        "df_price_distribution.sort_values(by=['Number of Apps'], ascending=False, inplace=True)"
      ],
      "execution_count": 0,
      "outputs": []
    },
    {
      "cell_type": "code",
      "metadata": {
        "id": "BVzGI5wmcRiS",
        "colab_type": "code",
        "colab": {}
      },
      "source": [
        "df_price_distribution.head(25)"
      ],
      "execution_count": 0,
      "outputs": []
    },
    {
      "cell_type": "code",
      "metadata": {
        "id": "pQ3tZb1lbDW0",
        "colab_type": "code",
        "colab": {}
      },
      "source": [
        "df_price_distribution['Number of Apps'] >= 10"
      ],
      "execution_count": 0,
      "outputs": []
    },
    {
      "cell_type": "code",
      "metadata": {
        "id": "SHU3Mcy0_YJt",
        "colab_type": "code",
        "colab": {}
      },
      "source": [
        "short_df_price = df_price_distribution[df_price_distribution['Number of Apps'] >= 10]"
      ],
      "execution_count": 0,
      "outputs": []
    },
    {
      "cell_type": "code",
      "metadata": {
        "id": "329Hu_H8bUAU",
        "colab_type": "code",
        "colab": {}
      },
      "source": [
        "short_df_price = pd.DataFrame(short_df_price)\n",
        "short_df_price.sort_values(by=['Price'], ascending=False, inplace=True)"
      ],
      "execution_count": 0,
      "outputs": []
    },
    {
      "cell_type": "code",
      "metadata": {
        "id": "ut6uRhwhcCrx",
        "colab_type": "code",
        "outputId": "767d5873-c77d-4ada-bf06-748581bb7a28",
        "colab": {
          "base_uri": "https://localhost:8080/",
          "height": 328
        }
      },
      "source": [
        "short_df_price"
      ],
      "execution_count": 0,
      "outputs": [
        {
          "output_type": "execute_result",
          "data": {
            "text/html": [
              "<div>\n",
              "<style scoped>\n",
              "    .dataframe tbody tr th:only-of-type {\n",
              "        vertical-align: middle;\n",
              "    }\n",
              "\n",
              "    .dataframe tbody tr th {\n",
              "        vertical-align: top;\n",
              "    }\n",
              "\n",
              "    .dataframe thead th {\n",
              "        text-align: right;\n",
              "    }\n",
              "</style>\n",
              "<table border=\"1\" class=\"dataframe\">\n",
              "  <thead>\n",
              "    <tr style=\"text-align: right;\">\n",
              "      <th></th>\n",
              "      <th>Number of Apps</th>\n",
              "      <th>Price</th>\n",
              "    </tr>\n",
              "  </thead>\n",
              "  <tbody>\n",
              "    <tr>\n",
              "      <th>12</th>\n",
              "      <td>10</td>\n",
              "      <td>9.99</td>\n",
              "    </tr>\n",
              "    <tr>\n",
              "      <th>2</th>\n",
              "      <td>51</td>\n",
              "      <td>4.99</td>\n",
              "    </tr>\n",
              "    <tr>\n",
              "      <th>4</th>\n",
              "      <td>30</td>\n",
              "      <td>3.99</td>\n",
              "    </tr>\n",
              "    <tr>\n",
              "      <th>5</th>\n",
              "      <td>90</td>\n",
              "      <td>2.99</td>\n",
              "    </tr>\n",
              "    <tr>\n",
              "      <th>7</th>\n",
              "      <td>17</td>\n",
              "      <td>2.49</td>\n",
              "    </tr>\n",
              "    <tr>\n",
              "      <th>6</th>\n",
              "      <td>54</td>\n",
              "      <td>1.99</td>\n",
              "    </tr>\n",
              "    <tr>\n",
              "      <th>3</th>\n",
              "      <td>39</td>\n",
              "      <td>1.49</td>\n",
              "    </tr>\n",
              "    <tr>\n",
              "      <th>1</th>\n",
              "      <td>117</td>\n",
              "      <td>0.99</td>\n",
              "    </tr>\n",
              "    <tr>\n",
              "      <th>0</th>\n",
              "      <td>4988</td>\n",
              "      <td>0.00</td>\n",
              "    </tr>\n",
              "  </tbody>\n",
              "</table>\n",
              "</div>"
            ],
            "text/plain": [
              "    Number of Apps  Price\n",
              "12              10   9.99\n",
              "2               51   4.99\n",
              "4               30   3.99\n",
              "5               90   2.99\n",
              "7               17   2.49\n",
              "6               54   1.99\n",
              "3               39   1.49\n",
              "1              117   0.99\n",
              "0             4988   0.00"
            ]
          },
          "metadata": {
            "tags": []
          },
          "execution_count": 108
        }
      ]
    },
    {
      "cell_type": "code",
      "metadata": {
        "id": "M0FNZbEHp1C7",
        "colab_type": "code",
        "outputId": "4cbd46cb-f43a-4f6a-b38f-24eab3751f43",
        "colab": {
          "base_uri": "https://localhost:8080/",
          "height": 255
        }
      },
      "source": [
        "plt.pie(short_df_price['Number of Apps'],  startangle=90, autopct='%.1f%%');"
      ],
      "execution_count": 0,
      "outputs": [
        {
          "output_type": "display_data",
          "data": {
            "image/png": "[encoded data removed]",
            "text/plain": [
              "<Figure size 432x288 with 1 Axes>"
            ]
          },
          "metadata": {
            "tags": []
          }
        }
      ]
    },
    {
      "cell_type": "code",
      "metadata": {
        "id": "1xEKaBzsFkOF",
        "colab_type": "code",
        "colab": {}
      },
      "source": [
        "\n",
        "# Label encoding\n",
        "lb_make = LabelEncoder()\n",
        "# Create column for \"numeric\" Content Rating \n",
        "df[\"Type NUM\"] = lb_make.fit_transform(df[\"Type\"])\n",
        "# Form dicitonary for Content Rating and numeric values \n",
        "dict_type = {\"Free\": 0, \"Paid\": 1}\n",
        "# Numeric value for Content Rating\n",
        "'''\n",
        "Free = 0\n",
        "Paid = 1\n",
        "'''\n"
      ],
      "execution_count": 0,
      "outputs": []
    },
    {
      "cell_type": "code",
      "metadata": {
        "id": "k7trhhUEol5d",
        "colab_type": "code",
        "outputId": "bf34520e-c7ed-4aff-eb90-9a6bd703ac93",
        "colab": {
          "base_uri": "https://localhost:8080/",
          "height": 68
        }
      },
      "source": [
        "df_free_paid = df.groupby(['Type NUM'], sort=False).size().reset_index(name='Count')\n",
        "print (df_free_paid)"
      ],
      "execution_count": 0,
      "outputs": [
        {
          "output_type": "stream",
          "text": [
            "   Type NUM  Count\n",
            "0         0   8412\n",
            "1         1    721\n"
          ],
          "name": "stdout"
        }
      ]
    },
    {
      "cell_type": "code",
      "metadata": {
        "id": "lhZM3YQ2m_fn",
        "colab_type": "code",
        "outputId": "1a4c3660-7bc2-46c1-c5a3-e7e31b3f7f5b",
        "colab": {
          "base_uri": "https://localhost:8080/",
          "height": 255
        }
      },
      "source": [
        "plt.pie(df_free_paid['Count'],  startangle=90, autopct='%.1f%%');"
      ],
      "execution_count": 0,
      "outputs": [
        {
          "output_type": "display_data",
          "data": {
            "image/png": "[encoded data removed]",
            "text/plain": [
              "<Figure size 432x288 with 1 Axes>"
            ]
          },
          "metadata": {
            "tags": []
          }
        }
      ]
    },
    {
      "cell_type": "code",
      "metadata": {
        "colab_type": "code",
        "id": "Um6GEcF-sGKt",
        "colab": {}
      },
      "source": [
        "df['Size'] = pd.to_numeric(df['Size'])"
      ],
      "execution_count": 0,
      "outputs": []
    },
    {
      "cell_type": "code",
      "metadata": {
        "id": "qGJXtoRX_uhj",
        "colab_type": "code",
        "colab": {}
      },
      "source": [
        "Sizes = pd.to_numeric(df['Size'])"
      ],
      "execution_count": 0,
      "outputs": []
    },
    {
      "cell_type": "code",
      "metadata": {
        "id": "AKIEK40BGtJW",
        "colab_type": "code",
        "colab": {}
      },
      "source": [
        "df['Size'].value_counts()"
      ],
      "execution_count": 0,
      "outputs": []
    },
    {
      "cell_type": "code",
      "metadata": {
        "id": "Lo3zL0XCFfSh",
        "colab_type": "code",
        "colab": {
          "base_uri": "https://localhost:8080/",
          "height": 320
        },
        "outputId": "295bd9ce-18c4-4e3a-fbd5-b2d3403cd6b1"
      },
      "source": [
        "plt.hist(Sizes, bins=30, normed=True, alpha=0.5, histtype='stepfilled', color='steelblue');"
      ],
      "execution_count": 24,
      "outputs": [
        {
          "output_type": "stream",
          "text": [
            "/usr/local/lib/python3.6/dist-packages/matplotlib/axes/_axes.py:6521: MatplotlibDeprecationWarning: \n",
            "The 'normed' kwarg was deprecated in Matplotlib 2.1 and will be removed in 3.1. Use 'density' instead.\n",
            "  alternative=\"'density'\", removal=\"3.1\")\n"
          ],
          "name": "stderr"
        },
        {
          "output_type": "display_data",
          "data": {
            "image/png": "[encoded data removed]",
            "text/plain": [
              "<Figure size 432x288 with 1 Axes>"
            ]
          },
          "metadata": {
            "tags": []
          }
        }
      ]
    },
    {
      "cell_type": "code",
      "metadata": {
        "id": "e8rqhya9HRxC",
        "colab_type": "code",
        "colab": {
          "base_uri": "https://localhost:8080/",
          "height": 283
        },
        "outputId": "c74c7dc2-7bcc-4d45-fb59-a89823d128ff"
      },
      "source": [
        "import seaborn as sns\n",
        "\n",
        "sns.distplot(Sizes, kde=False, rug=True);"
      ],
      "execution_count": 28,
      "outputs": [
        {
          "output_type": "display_data",
          "data": {
            "image/png": "[encoded data removed]",
            "text/plain": [
              "<Figure size 432x288 with 1 Axes>"
            ]
          },
          "metadata": {
            "tags": []
          }
        }
      ]
    },
    {
      "cell_type": "code",
      "metadata": {
        "id": "Q2QXthWEH7XC",
        "colab_type": "code",
        "colab": {}
      },
      "source": [
        ""
      ],
      "execution_count": 0,
      "outputs": []
    },
    {
      "cell_type": "code",
      "metadata": {
        "id": "IKhkQ26IsHZe",
        "colab_type": "code",
        "colab": {}
      },
      "source": [
        "import numpy\n",
        "data = df['Size']\n",
        "bins = numpy.linspace(0, 1, 10)\n",
        "digitized = numpy.digitize(data, bins)\n",
        "bin_means = [data[digitized == i].mean() for i in range(1, len(bins))]"
      ],
      "execution_count": 0,
      "outputs": []
    },
    {
      "cell_type": "code",
      "metadata": {
        "id": "kiGYJtgLtb1V",
        "colab_type": "code",
        "outputId": "73879c8b-6722-4c17-c297-733740e0e558",
        "colab": {
          "base_uri": "https://localhost:8080/",
          "height": 34
        }
      },
      "source": [
        "digitized"
      ],
      "execution_count": 0,
      "outputs": [
        {
          "output_type": "execute_result",
          "data": {
            "text/plain": [
              "array([10, 10, 10, ..., 10, 10, 10])"
            ]
          },
          "metadata": {
            "tags": []
          },
          "execution_count": 25
        }
      ]
    },
    {
      "cell_type": "code",
      "metadata": {
        "id": "dVWI-QDgZNo2",
        "colab_type": "code",
        "colab": {}
      },
      "source": [
        "pd.plotting.scatter_matrix(df, figsize=(10,10));"
      ],
      "execution_count": 0,
      "outputs": []
    },
    {
      "cell_type": "code",
      "metadata": {
        "id": "YVsPXg9DhC0F",
        "colab_type": "code",
        "colab": {}
      },
      "source": [
        "df.plot.hist(bin=10,alpha= 0.5);"
      ],
      "execution_count": 0,
      "outputs": []
    },
    {
      "cell_type": "code",
      "metadata": {
        "id": "6TdGt1EChSNj",
        "colab_type": "code",
        "colab": {}
      },
      "source": [
        "import pandas_profiling \n",
        "df.profile_report()"
      ],
      "execution_count": 0,
      "outputs": []
    },
    {
      "cell_type": "code",
      "metadata": {
        "id": "SuuAFUmMhkRD",
        "colab_type": "code",
        "colab": {}
      },
      "source": [
        "import seaborn as sns\n",
        "sns.pairplot(df)"
      ],
      "execution_count": 0,
      "outputs": []
    },
    {
      "cell_type": "code",
      "metadata": {
        "id": "3vk4MECshrC5",
        "colab_type": "code",
        "outputId": "d0b67b50-f753-4522-b814-ac224f6a37c0",
        "colab": {
          "base_uri": "https://localhost:8080/",
          "height": 415
        }
      },
      "source": [
        "plt.figure(figsize = (5, 5))\n",
        "sns.heatmap(df.corr())\n",
        "\n",
        "plt.show()"
      ],
      "execution_count": 0,
      "outputs": [
        {
          "output_type": "display_data",
          "data": {
            "image/png": "[encoded data removed]",
            "text/plain": [
              "<Figure size 360x360 with 2 Axes>"
            ]
          },
          "metadata": {
            "tags": []
          }
        }
      ]
    }
  ]
}