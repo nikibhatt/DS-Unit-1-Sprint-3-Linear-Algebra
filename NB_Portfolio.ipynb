{
  "nbformat": 4,
  "nbformat_minor": 0,
  "metadata": {
    "colab": {
      "name": "NB_Portfolio.ipynb",
      "provenance": [],
      "collapsed_sections": [],
      "include_colab_link": true
    },
    "kernelspec": {
      "display_name": "Python 3",
      "language": "python",
      "name": "python3"
    },
    "language_info": {
      "codemirror_mode": {
        "name": "ipython",
        "version": 3
      },
      "file_extension": ".py",
      "mimetype": "text/x-python",
      "name": "python",
      "nbconvert_exporter": "python",
      "pygments_lexer": "ipython3",
      "version": "3.7.1"
    }
  },
  "cells": [
    {
      "cell_type": "markdown",
      "metadata": {
        "id": "view-in-github",
        "colab_type": "text"
      },
      "source": [
        "<a href=\"https://colab.research.google.com/github/nikibhatt/DS-Unit-1-Sprint-3-Linear-Algebra/blob/master/NB_Portfolio.ipynb\" target=\"_parent\"><img src=\"https://colab.research.google.com/assets/colab-badge.svg\" alt=\"Open In Colab\"/></a>"
      ]
    },
    {
      "cell_type": "markdown",
      "metadata": {
        "id": "SnDJqBLi0FYW",
        "colab_type": "text"
      },
      "source": [
        "<img align=\"left\" src=\"https://lever-client-logos.s3.amazonaws.com/864372b1-534c-480e-acd5-9711f850815c-1524247202159.png\" width=200> "
      ]
    },
    {
      "cell_type": "code",
      "metadata": {
        "id": "vLWVaBSY-R_l",
        "colab_type": "code",
        "colab": {}
      },
      "source": [
        "import pandas as pd\n",
        "import numpy as np\n",
        "from sklearn.preprocessing import LabelEncoder\n",
        "from sklearn.impute import SimpleImputer\n",
        "from sklearn.ensemble import RandomForestRegressor\n",
        "from sklearn.metrics import mean_absolute_error # 0.3 error\n",
        "from sklearn.model_selection import train_test_split\n",
        "import matplotlib.pyplot as plt"
      ],
      "execution_count": 0,
      "outputs": []
    },
    {
      "cell_type": "code",
      "metadata": {
        "id": "hPAd5P9gnT_J",
        "colab_type": "code",
        "colab": {}
      },
      "source": [
        "df = pd.read_csv('googleplaystore.csv')\n"
      ],
      "execution_count": 0,
      "outputs": []
    },
    {
      "cell_type": "code",
      "metadata": {
        "id": "hE14Ul7B_ug5",
        "colab_type": "code",
        "colab": {}
      },
      "source": [
        "# Data cleaning for \"Size\" column\n",
        "df['Size'] = df['Size'].map(lambda x: x.rstrip('M'))\n",
        "df['Size'] = df['Size'].map(lambda x: str(round((float(x.rstrip('k'))/1024), 1)) if x[-1]=='k' else x)\n",
        "df['Size'] = df['Size'].map(lambda x: np.nan if x.startswith('Varies') else x)\n",
        "# Data cleaning for \"Installs\" column\n",
        "df['Installs'] = df['Installs'].map(lambda x: x.rstrip('+'))\n",
        "df['Installs'] = df['Installs'].map(lambda x: ''.join(x.split(',')))\n",
        "# Data cleaning for \"Price\" column\n",
        "df['Price'] = df['Price'].map(lambda x: x.lstrip('$').rstrip())\n",
        "# Row 10472 removed due to missing value of Category\n",
        "df.drop(df.index[10472], inplace=True)\n",
        "# Row [7312,8266] removed due to \"Unrated\" value in Content Rating\n",
        "df.drop(df.index[[7312,8266]], inplace=True)"
      ],
      "execution_count": 0,
      "outputs": []
    },
    {
      "cell_type": "code",
      "metadata": {
        "id": "EBvS5ZgTAdVx",
        "colab_type": "code",
        "colab": {}
      },
      "source": [
        "# Sort by \"Category\"\n",
        "df.sort_values(\"Category\", inplace = True)"
      ],
      "execution_count": 0,
      "outputs": []
    },
    {
      "cell_type": "code",
      "metadata": {
        "id": "9eApul7xuRiC",
        "colab_type": "code",
        "outputId": "37b6c2c1-305a-4ca9-8a54-a1fb19b570e7",
        "colab": {
          "base_uri": "https://localhost:8080/",
          "height": 34
        }
      },
      "source": [
        "# Label encoding\n",
        "lb_make = LabelEncoder()\n",
        "# Create column for \"numeric\" Content Rating \n",
        "df[\"Content Rating NUM\"] = lb_make.fit_transform(df[\"Content Rating\"])\n",
        "# Form dicitonary for Content Rating and numeric values \n",
        "dict_content_rating = {\"Adults only 18+\": 0, \"Everyone\": 1, \"Everyone 10+\": 2, \"Mature 17+\": 3, \"Teen\": 4}\n",
        "# Numeric value for Content Rating\n",
        "'''\n",
        "Adults only 18+ = 0\n",
        "Everyone = 1\n",
        "Everyone 10+ = 2\n",
        "Mature 17+ = 3\n",
        "Teen = 4\n",
        "'''\n",
        "# Create column for \"numeric\" Category\n",
        "df[\"Category NUM\"] = lb_make.fit_transform(df[\"Category\"])\n",
        "# Form dicitonary for Category and numeric values\n",
        "dict_category = {}\n",
        "val = 0\n",
        "for i in df[\"Category\"].unique():\n",
        " dict_category[i] = val\n",
        " val += 1\n",
        "# Numeric value for Category\n",
        "'''\n",
        "ART_AND_DESIGN = 0\n",
        "AUTO_AND_VEHICLES = 1\n",
        "BEAUTY = 2 \n",
        "BOOKS_AND_REFERENCE = 3\n",
        "BUSINESS = 4\n",
        "COMICS = 5\n",
        "COMMUNICATION = 6\n",
        "DATING = 7\n",
        "EDUCATION = 8\n",
        "ENTERTAINMENT = 9\n",
        "EVENTS = 10\n",
        "FAMILY = 11\n",
        "FINANCE = 12\n",
        "FOOD_AND_DRINK = 13\n",
        "GAME = 14\n",
        "HEALTH_AND_FITNESS = 15\n",
        "HOUSE_AND_HOME = 16\n",
        "LIBRARIES_AND_DEMO = 17\n",
        "LIFESTYLE = 18\n",
        "MAPS_AND_NAVIGATION = 19\n",
        "MEDICAL = 20\n",
        "NEWS_AND_MAGAZINES = 21\n",
        "PARENTING = 22\n",
        "PERSONALIZATION = 23\n",
        "PHOTOGRAPHY = 24\n",
        "PRODUCTIVITY = 25\n",
        "SHOPPING = 26\n",
        "SOCIAL = 27\n",
        "SPORTS = 28\n",
        "TOOLS = 29\n",
        "TRAVEL_AND_LOCAL = 30\n",
        "VIDEO_PLAYERS = 31\n",
        "WEATHER = 32\n",
        "'''\n",
        "\n",
        "# Label encoding\n",
        "lb_make = LabelEncoder()\n",
        "# Create column for \"numeric\" Content Rating \n",
        "df[\"Type NUM\"] = lb_make.fit_transform(df[\"Type\"])\n",
        "# Form dicitonary for Content Rating and numeric values \n",
        "dict_type = {\"Free\": 0, \"Paid\": 1}\n",
        "# Numeric value for Content Rating\n",
        "'''\n",
        "Free = 0\n",
        "Paid = 1\n",
        "'''"
      ],
      "execution_count": 90,
      "outputs": [
        {
          "output_type": "execute_result",
          "data": {
            "text/plain": [
              "'\\nFree = 0\\nPaid = 1\\n'"
            ]
          },
          "metadata": {
            "tags": []
          },
          "execution_count": 90
        }
      ]
    },
    {
      "cell_type": "code",
      "metadata": {
        "id": "QeUosa9vuYt4",
        "colab_type": "code",
        "colab": {}
      },
      "source": [
        "# Replace \"NaN\" with mean \n",
        "imputer = SimpleImputer()\n",
        "df['Rating'] = imputer.fit_transform(df[['Rating']])\n",
        "# Rounding the mean value to 1 decimal place\n",
        "df['Rating'].round(1)\n",
        "df.dropna(axis=0, inplace=True)"
      ],
      "execution_count": 0,
      "outputs": []
    },
    {
      "cell_type": "code",
      "metadata": {
        "id": "UjaVNzllulgY",
        "colab_type": "code",
        "colab": {}
      },
      "source": [
        "# Change datatype\n",
        "df['Reviews'] = pd.to_numeric(df['Reviews'])\n",
        "df['Installs'] = pd.to_numeric(df['Installs'])\n",
        "df['Price'] = pd.to_numeric(df['Price'])"
      ],
      "execution_count": 0,
      "outputs": []
    },
    {
      "cell_type": "code",
      "metadata": {
        "id": "O1uNrLGlB6wt",
        "colab_type": "code",
        "colab": {}
      },
      "source": [
        "# Seperating teen data for comparisons\n",
        "\n",
        "df_teen = df.loc[df['Content Rating NUM'] == 4]"
      ],
      "execution_count": 0,
      "outputs": []
    },
    {
      "cell_type": "code",
      "metadata": {
        "id": "jHkmfWfTcDU4",
        "colab_type": "code",
        "colab": {}
      },
      "source": [
        "# For 1st analysis, shorten dataset to top 10 categories\n",
        "\n",
        "df_grouped_by_category_num = df.groupby('Category NUM')\n",
        "options = ['GAME', 'FAMILY', 'COMMUNICATION', 'NEWS_AND_MAGAZINES', 'TOOLS', 'PRODUCTIVITY', 'PHOTOGRAPHY', 'SHOPPING', 'SPORTS', 'PERSONALIZATION']\n",
        "short_df = df[df['Category'].isin(options)]\n",
        "\n",
        "df_grouped_by_category_num_teen = df_teen.groupby('Category NUM').agg({'Installs':sum}).sort_values(by='Installs')\n",
        "options_teen = ['PERSONALIZATION', 'PHOTOGRAPHY', 'SOCIAL', 'VIDEO_PLAYERS', 'ENTERTAINMENT', 'SHOPPING', 'FAMILY', 'COMMUNICATION', 'GAME', 'NEWS_AND_MAGAZINES']\n",
        "short_df_teen = df_teen[df_teen['Category'].isin(options)]"
      ],
      "execution_count": 0,
      "outputs": []
    },
    {
      "cell_type": "code",
      "metadata": {
        "id": "7vBCwTYe1MYD",
        "colab_type": "code",
        "colab": {}
      },
      "source": [
        "# Calculate the sum installs for top 10 categories\n",
        "\n",
        "df_sum_installs_for_category = []\n",
        "for x in short_df['Category NUM'].unique():\n",
        "  df_sum_installs_for_category.append({'Category NUM': x, 'Sum Installs' : df.loc[df['Category NUM'] == int(x), 'Installs'].sum()})\n",
        "df_sum_installs_for_category = pd.DataFrame(df_sum_installs_for_category)\n",
        "\n",
        "df_sum_installs_for_category_teen = []\n",
        "for x in short_df_teen['Category NUM'].unique():\n",
        "  df_sum_installs_for_category_teen.append({'Category NUM': x, 'Sum Installs' : short_df_teen.loc[df['Category NUM'] == int(x), 'Installs'].sum()})\n",
        "df_sum_installs_for_category_teen = pd.DataFrame(df_sum_installs_for_category_teen)"
      ],
      "execution_count": 0,
      "outputs": []
    },
    {
      "cell_type": "code",
      "metadata": {
        "id": "uZBa0JPE7SZx",
        "colab_type": "code",
        "colab": {}
      },
      "source": [
        "# For better plotting, replace Category NUM with Category names\n",
        "\n",
        "def find_cat(row):\n",
        "   if int(row['Category NUM']) == 14 :\n",
        "      return 'GAME'\n",
        "   if int(row['Category NUM']) == 11 :\n",
        "      return 'FAMILY'\n",
        "   if int(row['Category NUM']) == 6 :\n",
        "      return 'COMMUNICATION'\n",
        "   if int(row['Category NUM']) == 21:\n",
        "      return 'NEWS_AND_MAGAZINES'\n",
        "   if int(row['Category NUM'])  == 29:\n",
        "      return 'TOOLS'\n",
        "   if int(row['Category NUM']) == 25:\n",
        "      return 'PRODUCTIVITY'\n",
        "   if int(row['Category NUM']) == 24:\n",
        "      return 'PHOTOGRAPHY'\n",
        "   if int(row['Category NUM']) == 26:\n",
        "      return 'SHOPPING'\n",
        "   if int(row['Category NUM']) == 28:\n",
        "      return 'SPORTS'\n",
        "   if int(row['Category NUM']) == 23:\n",
        "      return 'PERSONALIZATION'    \n",
        "   if int(row['Category NUM']) == 27:\n",
        "      return 'SOCIAL' \n",
        "   if int(row['Category NUM']) == 31:      \n",
        "      return 'VIDEO_PLAYERS'\n",
        "   if int(row['Category NUM']) == 9:      \n",
        "      return 'ENTERTAINMENT'      \n",
        "   return 'Other'\n",
        "\n"
      ],
      "execution_count": 0,
      "outputs": []
    },
    {
      "cell_type": "code",
      "metadata": {
        "id": "ZoejWTJv-yLM",
        "colab_type": "code",
        "colab": {}
      },
      "source": [
        "df_sum_installs_for_category['Category'] = df_sum_installs_for_category.apply(lambda row: find_cat(row), axis=1)\n",
        "df_sum_installs_for_category_teen['Category'] = df_sum_installs_for_category_teen.apply(lambda row: find_cat(row), axis=1)"
      ],
      "execution_count": 0,
      "outputs": []
    },
    {
      "cell_type": "code",
      "metadata": {
        "id": "z0Sz1-vnLa8g",
        "colab_type": "code",
        "colab": {}
      },
      "source": [
        "df_sum_installs_for_category.plot.pie(y='Sum Installs', labels=df_sum_installs_for_category['Category'])"
      ],
      "execution_count": 0,
      "outputs": []
    },
    {
      "cell_type": "code",
      "metadata": {
        "id": "1NPOEHUy_rqP",
        "colab_type": "code",
        "colab": {}
      },
      "source": [
        "df_sum_installs_for_category_teen.plot.pie(y='Sum Installs', labels=df_sum_installs_for_category_teen['Category'])"
      ],
      "execution_count": 0,
      "outputs": []
    },
    {
      "cell_type": "code",
      "metadata": {
        "id": "yGBTdW5RLd4N",
        "colab_type": "code",
        "colab": {}
      },
      "source": [
        "# for price based analysis\n",
        "\n",
        "df_price_distribution = []\n",
        "for x in short_df['Price'].unique():\n",
        "  df_price_distribution.append({'Price' : x, 'Number of Apps': len(short_df.loc[df['Price'] == x])})\n",
        "df_price_distribution = pd.DataFrame(df_price_distribution)\n",
        "df_price_distribution.sort_values(by=['Number of Apps'], ascending=False, inplace=True)\n",
        "\n",
        "df_price_distribution_teen = []\n",
        "for x in short_df_teen['Price'].unique():\n",
        "  df_price_distribution_teen.append({'Price' : x, 'Number of Apps': len(short_df_teen.loc[df['Price'] == x])})\n",
        "df_price_distribution_teen = pd.DataFrame(df_price_distribution_teen)\n",
        "df_price_distribution_teen.sort_values(by=['Number of Apps'], ascending=False, inplace=True)"
      ],
      "execution_count": 0,
      "outputs": []
    },
    {
      "cell_type": "code",
      "metadata": {
        "id": "YDDbKWZsahRE",
        "colab_type": "code",
        "colab": {}
      },
      "source": [
        "# for better graphing, make shorter dataframe\n",
        "\n",
        "short_df_price = df_price_distribution[df_price_distribution['Number of Apps'] >= 5]\n",
        "short_df_price = pd.DataFrame(short_df_price)\n",
        "\n",
        "short_df_price_teen = df_price_distribution_teen[df_price_distribution_teen['Number of Apps'] >= 5]\n",
        "short_df_price_teen = pd.DataFrame(short_df_price_teen)"
      ],
      "execution_count": 0,
      "outputs": []
    },
    {
      "cell_type": "code",
      "metadata": {
        "id": "M0FNZbEHp1C7",
        "colab_type": "code",
        "outputId": "3dbb6e65-62c8-4342-ab07-c30429d35a3f",
        "colab": {
          "base_uri": "https://localhost:8080/",
          "height": 248
        }
      },
      "source": [
        "plt.pie(short_df_price['Number of Apps'],  startangle=90, autopct='%.1f%%');"
      ],
      "execution_count": 88,
      "outputs": [
        {
          "output_type": "display_data",
          "data": {
            "image/png": "[encoded data removed]",
            "text/plain": [
              "<Figure size 432x288 with 1 Axes>"
            ]
          },
          "metadata": {
            "tags": []
          }
        }
      ]
    },
    {
      "cell_type": "code",
      "metadata": {
        "id": "bvjfImtiA3In",
        "colab_type": "code",
        "colab": {
          "base_uri": "https://localhost:8080/",
          "height": 248
        },
        "outputId": "bdd23976-323b-413c-a135-16cfe4f01999"
      },
      "source": [
        "plt.pie(short_df_price_teen['Number of Apps'],  startangle=90, autopct='%.1f%%');"
      ],
      "execution_count": 89,
      "outputs": [
        {
          "output_type": "display_data",
          "data": {
            "image/png": "[encoded data removed]",
            "text/plain": [
              "<Figure size 432x288 with 1 Axes>"
            ]
          },
          "metadata": {
            "tags": []
          }
        }
      ]
    },
    {
      "cell_type": "code",
      "metadata": {
        "id": "k7trhhUEol5d",
        "colab_type": "code",
        "colab": {}
      },
      "source": [
        "df_free_paid = df.groupby(['Type NUM'], sort=False).size().reset_index(name='Count')\n",
        "df_free_paid_teen = df_teen.groupby(['Type NUM'], sort=False).size().reset_index(name='Count')"
      ],
      "execution_count": 0,
      "outputs": []
    },
    {
      "cell_type": "code",
      "metadata": {
        "id": "lhZM3YQ2m_fn",
        "colab_type": "code",
        "outputId": "3f054adf-d806-4531-b190-68c70a059e55",
        "colab": {
          "base_uri": "https://localhost:8080/",
          "height": 248
        }
      },
      "source": [
        "plt.pie(df_free_paid['Count'],  startangle=90, autopct='%.1f%%');"
      ],
      "execution_count": 103,
      "outputs": [
        {
          "output_type": "display_data",
          "data": {
            "image/png": "[encoded data removed]",
            "text/plain": [
              "<Figure size 432x288 with 1 Axes>"
            ]
          },
          "metadata": {
            "tags": []
          }
        }
      ]
    },
    {
      "cell_type": "code",
      "metadata": {
        "id": "UJtXoRSYCGID",
        "colab_type": "code",
        "colab": {
          "base_uri": "https://localhost:8080/",
          "height": 248
        },
        "outputId": "6657d22d-7f24-4b19-d2cd-160991f7809b"
      },
      "source": [
        "plt.pie(df_free_paid_teen['Count'],  startangle=90, autopct='%.1f%%');"
      ],
      "execution_count": 104,
      "outputs": [
        {
          "output_type": "display_data",
          "data": {
            "image/png": "[encoded data removed]",
            "text/plain": [
              "<Figure size 432x288 with 1 Axes>"
            ]
          },
          "metadata": {
            "tags": []
          }
        }
      ]
    },
    {
      "cell_type": "code",
      "metadata": {
        "colab_type": "code",
        "id": "Um6GEcF-sGKt",
        "colab": {
          "base_uri": "https://localhost:8080/",
          "height": 316
        },
        "outputId": "a8992f4b-20de-4b2c-c9da-2cd67b6ad13c"
      },
      "source": [
        "# for Size related analysis\n",
        "\n",
        "Sizes = pd.to_numeric(df['Size'])\n",
        "plt.hist(Sizes, bins=30, normed=True, alpha=0.5, histtype='stepfilled', color='steelblue');"
      ],
      "execution_count": 108,
      "outputs": [
        {
          "output_type": "stream",
          "text": [
            "/usr/local/lib/python3.6/dist-packages/ipykernel_launcher.py:3: MatplotlibDeprecationWarning: \n",
            "The 'normed' kwarg was deprecated in Matplotlib 2.1 and will be removed in 3.1. Use 'density' instead.\n",
            "  This is separate from the ipykernel package so we can avoid doing imports until\n"
          ],
          "name": "stderr"
        },
        {
          "output_type": "display_data",
          "data": {
            "image/png": "[encoded data removed]",
            "text/plain": [
              "<Figure size 432x288 with 1 Axes>"
            ]
          },
          "metadata": {
            "tags": []
          }
        }
      ]
    },
    {
      "cell_type": "code",
      "metadata": {
        "id": "uc7nuVrjCsbq",
        "colab_type": "code",
        "colab": {
          "base_uri": "https://localhost:8080/",
          "height": 316
        },
        "outputId": "8368ce32-ad02-475d-d246-eb3f0558cbb7"
      },
      "source": [
        "Sizes_teen = pd.to_numeric(df_teen['Size'])\n",
        "plt.hist(Sizes_teen, bins=30, normed=True, alpha=0.5, histtype='stepfilled', color='steelblue');"
      ],
      "execution_count": 107,
      "outputs": [
        {
          "output_type": "stream",
          "text": [
            "/usr/local/lib/python3.6/dist-packages/ipykernel_launcher.py:2: MatplotlibDeprecationWarning: \n",
            "The 'normed' kwarg was deprecated in Matplotlib 2.1 and will be removed in 3.1. Use 'density' instead.\n",
            "  \n"
          ],
          "name": "stderr"
        },
        {
          "output_type": "display_data",
          "data": {
            "image/png": "[encoded data removed]",
            "text/plain": [
              "<Figure size 432x288 with 1 Axes>"
            ]
          },
          "metadata": {
            "tags": []
          }
        }
      ]
    }
  ]
}